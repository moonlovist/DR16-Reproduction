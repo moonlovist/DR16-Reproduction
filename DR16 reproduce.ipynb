{
 "cells": [
  {
   "cell_type": "markdown",
   "id": "5263f553-3677-41bb-83d3-ef189fb42857",
   "metadata": {},
   "source": [
    "# Reproduce The DR16 paper result "
   ]
  },
  {
   "cell_type": "markdown",
   "id": "b22fbcf5-5d8c-45b0-916e-5364923c6b1a",
   "metadata": {},
   "source": [
    "## I will describe here the instructions to reproduce the DR16 results using Picca, which is a commonly used python package for the lyman-alpha analysis.\n"
   ]
  },
  {
   "cell_type": "markdown",
   "id": "43b3009c-8993-4afb-a9bc-cee2969d71d3",
   "metadata": {},
   "source": [
    "# Start with getting the correct version of Picca:\n",
    "## The DR16 paper used the published version as the tags/v4, which is slightly different from the lastest master version.\n",
    "## You can get the latest master version by simply using:"
   ]
  },
  {
   "cell_type": "code",
   "execution_count": null,
   "id": "9bb1c32a-585f-47da-9246-6c40d309e9cc",
   "metadata": {},
   "outputs": [],
   "source": [
    "git clone https://github.com/igmhub/picca.git"
   ]
  },
  {
   "cell_type": "markdown",
   "id": "370f2b48-b720-4df7-b6a7-584b9b3e8d6b",
   "metadata": {},
   "source": [
    "## Add to your bashrc:"
   ]
  },
  {
   "cell_type": "code",
   "execution_count": null,
   "id": "9417b02c-5617-4da7-b8cb-fc56d3afdb2f",
   "metadata": {},
   "outputs": [],
   "source": [
    "export PICCA_BASE='path to your picca'\n",
    "pip install -r requirements.txt --user\n",
    "python setup.py install --user"
   ]
  },
  {
   "cell_type": "markdown",
   "id": "b6a5ffd8-75bc-46b6-a2bb-d07a73104804",
   "metadata": {},
   "source": [
    "## To get the DR16 paper tags/v4 version, you can use:"
   ]
  },
  {
   "cell_type": "code",
   "execution_count": null,
   "id": "1bba7099-8720-41fa-8638-da1a2cb9043e",
   "metadata": {},
   "outputs": [],
   "source": [
    "git checkout tags/v4 -b publish"
   ]
  },
  {
   "cell_type": "markdown",
   "id": "a638111a-5121-45c0-a27c-0e49d706ef62",
   "metadata": {},
   "source": [
    "## The next step is to create the delta fields. You can run it on the interactive node or submit the jobs on NERSC. To Start an interactive session at NERSC, for instance running:"
   ]
  },
  {
   "cell_type": "code",
   "execution_count": null,
   "id": "3c4f6277-470c-4420-a06f-663326cb893b",
   "metadata": {},
   "outputs": [],
   "source": [
    "salloc -N 1 -C haswell -q interactive -t 04:00:00"
   ]
  },
  {
   "cell_type": "markdown",
   "id": "1d2da89a-d911-4242-a08c-7e09e2201189",
   "metadata": {},
   "source": [
    "## You need to use the quasar spectra and catalogs maintained by SDSS. They can be downloaded from the SDSS website, but they are already at NERSC."
   ]
  },
  {
   "cell_type": "code",
   "execution_count": null,
   "id": "e237a3e2-aeb2-4dea-9bff-3a6b80afec7f",
   "metadata": {
    "tags": []
   },
   "outputs": [],
   "source": [
    "Setup variable pointing to the DR16 spectra catalog:\n",
    "export EBOSS_v5_13_0='/global/cfs/cdirs/cosmo/data/sdss/dr16/eboss/spectro/redux/v5_13_0/'\n",
    "\n",
    "Setup another variable pointing to the DR16 quasar catalog:\n",
    "export DR16_Catalogs='/global/cfs/cdirs/desi/science/lya/eboss_dr16/original_dr16_analysis/Catalogs'\n",
    "\n",
    "export Reproduce_dr16=<path to your reproduction directory>"
   ]
  },
  {
   "cell_type": "markdown",
   "id": "b9a62167-ce72-48e5-8637-e0fea492a9d0",
   "metadata": {},
   "source": [
    "## Now create the quasar catalogs at your own directory."
   ]
  },
  {
   "cell_type": "code",
   "execution_count": null,
   "id": "8d657a8a-474d-4706-9bf6-49c546f0e02f",
   "metadata": {},
   "outputs": [],
   "source": [
    "cp -r $DR16_Catalogs $Reproduce_dr16/Catalogs\n",
    "cd $Reproduce_dr16\n",
    "mkdir Delta_calibration Delta_calibration/Delta Delta_calibration/Log/\n",
    "mkdir Delta_calibration2 Delta_calibration2/Delta Delta_calibration2/Log/\n",
    "mkdir Delta_LYA Delta_LYA/Delta Delta_LYA/Log/\n",
    "mkdir Delta_LYB Delta_LYB/Delta Delta_LYB/Log/\n",
    "mkdir Fits Correlations"
   ]
  },
  {
   "cell_type": "markdown",
   "id": "41c1d046-0ffc-4014-806f-8ccf925ee64f",
   "metadata": {},
   "source": [
    "## Run picca_delta.py function to generate the delta fields. They will be stored in the /Delta/ sub-directory, and you can find the process output at /Log/ sub-directory. You need to run picca_delta.py for 4 times one after another: \n",
    "### The first run will correct the calibration vector, using the MgII region:"
   ]
  },
  {
   "cell_type": "code",
   "execution_count": null,
   "id": "800a0ca2-d53e-42db-8081-b6ac8d6036a6",
   "metadata": {},
   "outputs": [],
   "source": [
    "$PICCA_BASE/bin/picca_deltas.py --in-dir $EBOSS_v5_13_0/ --drq $Reproduce_dr16/Catalogs/cat_for_clustering.fits.gz --out-dir $Reproduce_dr16/Delta/Delta_calibration/Delta/ --iter-out-prefix $Reproduce_dr16/Delta/Delta_calibration/Log/delta_attributes --log $Reproduce_dr16/Delta/Delta_calibration/Log/input.log --dust-map $Reproduce_dr16/Catalogs/cat_for_clustering.fits.gz --rebin 3 --mode spplate --lambda-min 3600.0 --lambda-max 7235.0 --lambda-rest-min 2900.0 --lambda-rest-max 3120.0 --nit 20 --bi-max 0. --npix-min 50"
   ]
  },
  {
   "cell_type": "markdown",
   "id": "bba09b37-cbd7-43d9-b283-27611773dd51",
   "metadata": {},
   "source": [
    "### The second run will correct the variance also in the MgII region, using the results from the first run:"
   ]
  },
  {
   "cell_type": "code",
   "execution_count": null,
   "id": "1ae34cec-11db-4267-8a8a-36890e947ae0",
   "metadata": {},
   "outputs": [],
   "source": [
    "$PICCA_BASE/bin/picca_deltas.py --in-dir $EBOSS_v5_13_0/ --drq $Reproduce_dr16/Catalogs/cat_for_clustering.fits.gz --out-dir $Reproduce_dr16/Delta/Delta_calibration2/Delta/ --iter-out-prefix $Reproduce_dr16/Delta/Delta_calibration2/Log/delta_attributes --log $Reproduce_dr16/Delta/Delta_calibration2/Log/input.log --dust-map $Reproduce_dr16/Catalogs/cat_for_clustering.fits.gz --flux-calib $Reproduce_dr16/Delta/Delta_calibration/Log/delta_attributes.fits.gz --mask-file $Reproduce_dr16/Catalogs/dr16-line-sky-mask.txt --rebin 3 --mode spplate --lambda-min 3600.0 --lambda-max 7235.0 --lambda-rest-min 2900.0 --lambda-rest-max 3120.0 --nit 20 --bi-max 0. --npix-min 50"
   ]
  },
  {
   "cell_type": "markdown",
   "id": "80856b4e-2459-46c0-9976-bb36b2fc310a",
   "metadata": {},
   "source": [
    "### The third and fourth runs will actually compute the deltas in the Lya region and in the Lyb region:"
   ]
  },
  {
   "cell_type": "code",
   "execution_count": null,
   "id": "f248bd9e-4d65-4e1e-8df3-2fd97ca240af",
   "metadata": {},
   "outputs": [],
   "source": [
    "$PICCA_BASE/bin/picca_deltas.py --in-dir $EBOSS_v5_13_0/ --drq $Reproduce_dr16/Catalogs/cat_for_clustering.fits.gz --out-dir $Reproduce_dr16/Delta/Delta_LYA/Delta/ --iter-out-prefix $Reproduce_dr16/Delta/Delta_LYA/Log/delta_attributes --log $Reproduce_dr16/Delta/Delta_LYA/Log/input.log --dust-map $Reproduce_dr16/Catalogs/cat_for_clustering.fits.gz --flux-calib $Reproduce_dr16/Delta/Delta_LYA/Log/delta_attributes.fits.gz --ivar-calib $Reproduce_dr16/Delta/Delta_LYA/Log/delta_attributes.fits.gz --mask-file $Reproduce_dr16/Catalogs/dr16-line-sky-mask.txt --dla-vac $Reproduce_dr16/Catalogs/cat_for_DLA.fits --rebin 3 --mode spplate --lambda-min 3600.0 --lambda-max 7235.0 --lambda-rest-min 1040.0 --lambda-rest-max 1200.0 --nit 20 --bi-max 0. --vlss-max 1.0 --optical-depth 0.0023 3.64 LYA --npix-min 50"
   ]
  },
  {
   "cell_type": "code",
   "execution_count": null,
   "id": "b019d8db-5e0f-4cf5-87a5-99058392b9ce",
   "metadata": {},
   "outputs": [],
   "source": [
    "$PICCA_BASE/bin/picca_deltas.py --in-dir $EBOSS_v5_13_0/--drq $Reproduce_dr16/Catalogs/cat_for_clustering.fits.gz--out-dir $Reproduce_dr16/Delta_LYB/Delta/ --iter-out-prefix $Reproduce_dr16/Delta_LYB/Log/delta_attributes --log $Reproduce_dr16/Delta_LYB/Log/input.log --dust-map $Reproduce_dr16/Catalogs/cat_for_clustering.fits.gz --flux-calib $Reproduce_dr16/Delta_calibration/Log/delta_attributes.fits.gz--ivar-calib $Reproduce_dr16/Delta_calibration2/Log/delta_attributes.fits.gz --mask-file $Reproduce_dr16/Catalogs/dr16-line-sky-mask.txt --dla-vac $Reproduce_dr16/Catalogs/cat_for_DLA.fits --rebin 3 --mode spplate --lambda-min 3600.0 --lambda-max 7235.0 --lambda-rest-min 920.0 --lambda-rest-max 1020.0 --nit 20--bi-max 0. --vlss-max 1.0 --optical-depth 0.0023 3.64 LYA 0.00043713769837498814 3.64 LYB 0.00016021175814990248 3.64 LY3 7.702653463648834e-05 3.64 LY4 4.310181661039068e-05 3.64 LY5 --npix-min 50"
   ]
  },
  {
   "cell_type": "markdown",
   "id": "8c3b38d2-22ab-433b-8cdf-2cfb76c790b1",
   "metadata": {
    "tags": []
   },
   "source": [
    "# Measuring the Lya auto-correlation\n",
    "### Use the picca_cf.py function to compute the correlation function:"
   ]
  },
  {
   "cell_type": "code",
   "execution_count": null,
   "id": "abbcac25-9c74-4288-aaa8-2921bf9841ce",
   "metadata": {},
   "outputs": [],
   "source": [
    "$PICCA_BASE/bin/picca_cf.py --in-dir $Reproduce_dr16/Delta_LYA/Delta/ --out $Reproduce_dr16/Correlations/cf_z_all_data.fits --nproc 32 --fid-Om 0.3147 --fid-Or 0.0"
   ]
  },
  {
   "cell_type": "markdown",
   "id": "8f381b49-04bf-44b2-99be-5f0c9c108974",
   "metadata": {},
   "source": [
    "### Use the picca_dmat.py function to get the distorsion matrix:"
   ]
  },
  {
   "cell_type": "code",
   "execution_count": null,
   "id": "92391d54-db82-4996-94a9-fde63529cfed",
   "metadata": {},
   "outputs": [],
   "source": [
    "$PICCA_BASE/bin/picca_dmat.py --in-dir $Reproduce_dr16/Delta_LYA/Delta/ --out $Reproduce_dr16/Correlations/dmat_z_all_data.fits --rej 0.99 --nproc 32 --fid-Om 0.3147 --fid-Or 0.0"
   ]
  },
  {
   "cell_type": "markdown",
   "id": "bf58eb16-4093-464a-9892-823523985e2d",
   "metadata": {},
   "source": [
    "### Use the picca_metal_dmat.py function to get the metal distorsion matrix:"
   ]
  },
  {
   "cell_type": "code",
   "execution_count": null,
   "id": "573c6822-5b08-412a-ab68-84aef403dcfb",
   "metadata": {},
   "outputs": [],
   "source": [
    "$PICCA_BASE/bin/picca_metal_dmat.py --in-dir $Reproduce_dr16/Delta_LYA/Delta/ --out $Reproduce_dr16/Correlations/metal_dmat_z_all_data.fits --nproc 32 --fid-Om 0.314569514863487 --fid-Or 7.97505418919554e-5 --rej 0.999 --abs-igm 'CIV(eff)' 'SiII(1260)' 'SiIII(1207)' 'SiII(1193)' 'SiII(1190)'"
   ]
  },
  {
   "cell_type": "markdown",
   "id": "90f93ed5-6de4-4653-b364-fe1989a5ebdf",
   "metadata": {},
   "source": [
    "### Export the correlation function by using the distorsion matrix:"
   ]
  },
  {
   "cell_type": "code",
   "execution_count": null,
   "id": "df8ac622-487d-42df-ac06-19995b10eec5",
   "metadata": {},
   "outputs": [],
   "source": [
    "$PICCA_BASE/bin/picca_export.py --data $Reproduce_dr16/Correlations/cf_z_all_data.fits --dmat $Reproduce_dr16/Correlations/dmat_z_all_data.fits --out $Reproduce_dr16/Correlations/cf_z_all_data-exp.fits.gz"
   ]
  },
  {
   "cell_type": "markdown",
   "id": "96a52969-d226-4ff8-b656-7cd03e49424a",
   "metadata": {},
   "source": [
    "### The Lya auto-correlation function is stored in cf_z_all_data-exp.fits.gz:"
   ]
  },
  {
   "cell_type": "markdown",
   "id": "7c358c37-fac0-43c6-884c-604d550d628c",
   "metadata": {},
   "source": [
    "# BAO fitting\n",
    "### Copy the example scripts to your directory:"
   ]
  },
  {
   "cell_type": "code",
   "execution_count": null,
   "id": "71614f47-f3d1-4520-865c-1ec28e192e4a",
   "metadata": {},
   "outputs": [],
   "source": [
    "cp -r /global/cfs/cdirs/desi/science/lya/eboss_dr16/ting_reproduce_dr16/Scripts $Reproduce_dr16/Scripts"
   ]
  },
  {
   "cell_type": "markdown",
   "id": "ac3fb7bd-9dac-49ff-a05a-c3bfd3474002",
   "metadata": {},
   "source": [
    "### Use the picca_fitter2.py function to do the correlation function fitting:"
   ]
  },
  {
   "cell_type": "code",
   "execution_count": null,
   "id": "23d1b399-7c46-4604-8b00-d95bbb763f82",
   "metadata": {},
   "outputs": [],
   "source": [
    "$PICCA_BASE/bin/picca_fitter2.py $Reproduce_dr16/Scripts/chi2_L0_10.ini"
   ]
  },
  {
   "cell_type": "markdown",
   "id": "69f9ef92-979e-4fda-9b03-465a82d3eed1",
   "metadata": {},
   "source": [
    "# We can submit jobs on NERSC for the running. Here follows an example of the job submission "
   ]
  },
  {
   "cell_type": "code",
   "execution_count": null,
   "id": "ffea8ea1-30b9-4301-9d72-6fc13d281479",
   "metadata": {},
   "outputs": [],
   "source": [
    "sbatch $Reproduce_dr16/Scripts/picca_deltas_calibration.batch\n",
    "sbatch $Reproduce_dr16/Scripts/picca_deltas_calibration2.batch\n",
    "sbatch $Reproduce_dr16/Scripts/picca_deltas_LYA.batch\n",
    "sbatch $Reproduce_dr16/Scripts/cf_z.batch\n",
    "sbatch $Reproduce_dr16/Scripts/dmat_z.batch\n",
    "sbatch $Reproduce_dr16/Scripts/metal_dmat.batch\n",
    "sbatch $Reproduce_dr16/Scripts/export.batch"
   ]
  },
  {
   "cell_type": "code",
   "execution_count": null,
   "id": "a6df5de8-f376-4616-89fb-533f461316e8",
   "metadata": {},
   "outputs": [],
   "source": []
  },
  {
   "cell_type": "markdown",
   "id": "4dd9aa73-f0e6-47ce-809d-6b49f656b684",
   "metadata": {},
   "source": [
    "# Result comparison\n",
    "## Here you can find the example code for the comparison of delta fields and correlation function created by different versions of picca"
   ]
  },
  {
   "cell_type": "code",
   "execution_count": 3,
   "id": "0447a75d-16a8-4370-a18d-7eaa64e46fd2",
   "metadata": {},
   "outputs": [],
   "source": [
    "from fitsio import FITS\n",
    "import matplotlib.pyplot as plt\n",
    "import astropy.io.fits as pyfits\n",
    "import numpy as np\n",
    "import os\n",
    "from matplotlib.pyplot import rcParams\n",
    "import matplotlib._color_data as mcd\n",
    "import math\n",
    "rcParams['figure.figsize'] = 10, 5\n",
    "rcParams['lines.linewidth'] = 2\n",
    "rcParams['axes.labelsize'] = 15\n",
    "rcParams['legend.fontsize'] = 12"
   ]
  },
  {
   "cell_type": "code",
   "execution_count": 7,
   "id": "a39f998c-5409-4198-b419-18cf7ce5ddcb",
   "metadata": {},
   "outputs": [],
   "source": [
    "delta_publish_dir = '/global/cscratch1/sd/tanting/Result_hcd/Delta/Delta_data_rebins_3_publish/Delta_LYA/Delta/delta-100.fits.gz'\n",
    "delta_master_dir='/global/cscratch1/sd/tanting/Result_hcd/Delta/Delta_data_rebins_3_test/Delta_LYA/Delta/delta-100.fits.gz'\n",
    "delta_dr16_dir = '/global/cfs/cdirs/desi/science/lya/eboss_dr16/original_dr16_analysis/Delta_LYA/Delta/delta-100.fits.gz'\n",
    "\n",
    "delta_publish_file = FITS(delta_publish_dir)\n",
    "delta_master_file = FITS(delta_master_dir)\n",
    "delta_dr16_file = FITS(delta_dr16_dir)"
   ]
  },
  {
   "cell_type": "code",
   "execution_count": 17,
   "id": "bab00491-ded2-4f2b-a7d9-f3f55c4e8cf7",
   "metadata": {},
   "outputs": [
    {
     "data": {
      "image/png": "[encoded data removed]",
      "text/plain": [
       "<Figure size 720x360 with 1 Axes>"
      ]
     },
     "metadata": {
      "needs_background": "light"
     },
     "output_type": "display_data"
    }
   ],
   "source": [
    "name = '458396011'\n",
    "plt.figure()\n",
    "plt.title(r'$\\frac{(CONT^*-CONT_{dr16})}{CONT_{dr16}}$',fontsize = 20)\n",
    "plt.plot(delta_publish_file[name]['LOGLAM'][:],(delta_publish_file[name]['CONT'][:] - delta_dr16_file[name]['CONT'][:])/delta_dr16_file[name]['CONT'][:],alpha = 0.8,color = 'red',label = 'publish')\n",
    "plt.plot(delta_publish_file[name]['LOGLAM'][:],(delta_master_file[name]['CONT'][:] - delta_dr16_file[name]['CONT'][:])/delta_dr16_file[name]['CONT'][:],alpha = 0.3,color = 'blue',label = 'master')\n",
    "plt.xlabel(r'$log\\lambda$')\n",
    "plt.legend(fontsize = 26)\n",
    "plt.show()"
   ]
  },
  {
   "cell_type": "code",
   "execution_count": null,
   "id": "17c169fd-38af-40cd-8800-2ce5e21d73c8",
   "metadata": {},
   "outputs": [],
   "source": []
  },
  {
   "cell_type": "markdown",
   "id": "378dd73d-a3b6-4ec6-9ef7-5959912d79a2",
   "metadata": {},
   "source": [
    "## Compare the correlation function"
   ]
  },
  {
   "cell_type": "code",
   "execution_count": 4,
   "id": "e39146f8-f13f-4b81-8368-37660cb8b14f",
   "metadata": {},
   "outputs": [],
   "source": [
    "def histo(x, cut=None, range=None, bins=50, alpha=1, clear=True, color='blue', xlab=None, text=None, datarange=None, grd=True):\n",
    "        if cut is None:\n",
    "                newx = x\n",
    "        else:\n",
    "                newx = x[cut]\n",
    "        if xlab: plt.xlabel(xlab)\n",
    "        lab = ' N: '+str(len(newx))+'\\n mean: {0:.3g}'.format(np.mean(newx))+'\\n rms: {0:.3g}'.format(np.std(newx))\n",
    "        if text is not None: lab = text+'\\n'+lab\n",
    "        truc=plt.hist(newx, range=range, bins=bins, alpha=alpha, color=color, label=lab)\n",
    "        plt.legend(loc='upper right')\n",
    "        if grd: plt.grid()\n",
    "        return np.array([len(newx), np.mean(newx), np.std(newx)])"
   ]
  },
  {
   "cell_type": "code",
   "execution_count": 5,
   "id": "962bc40f-0c66-4e05-968d-af07bf8918c7",
   "metadata": {},
   "outputs": [],
   "source": [
    "dir_dr16 = '/global/cfs/cdirs/desi/science/lya/eboss_dr16/original_dr16_analysis/Correlations/cf_z_0_10-exp.fits.gz'\n",
    "dir_andreu = '/global/cfs/cdirs/desi/science/lya/eboss_dr16/redo_Z_LyaMask/Correlations/cf_z_0_10-exp.fits.gz'\n",
    "\n",
    "dir_master = '/global/cscratch1/sd/tanting/Result_hcd/Correlations/data_200_rebins_3_master/cf_z_all_data-exp.fits.gz'\n",
    "dir_publish = '/global/cscratch1/sd/tanting/Result_hcd/Correlations/data_200_rebins_3_publish/cf_z_all_data-exp.fits.gz'"
   ]
  },
  {
   "cell_type": "code",
   "execution_count": 6,
   "id": "dad54c2e-2acd-4edf-aeaa-348a019838ea",
   "metadata": {},
   "outputs": [
    {
     "data": {
      "text/plain": [
       "array([2.50000000e+03, 8.62209606e-04, 7.66098752e-02])"
      ]
     },
     "execution_count": 6,
     "metadata": {},
     "output_type": "execute_result"
    },
    {
     "data": {
      "image/png": "[encoded data removed]",
      "text/plain": [
       "<Figure size 720x360 with 1 Axes>"
      ]
     },
     "metadata": {
      "needs_background": "light"
     },
     "output_type": "display_data"
    }
   ],
   "source": [
    "hdu_dr16=pyfits.open(dir_dr16)\n",
    "hdu_master=pyfits.open(dir_master)\n",
    "hdu_andreu=pyfits.open(dir_andreu)\n",
    "hdu_publish=pyfits.open(dir_publish)\n",
    "xi_dr16=hdu_dr16[1].data['DA']\n",
    "xi_master=hdu_master[1].data['DA']\n",
    "xi_andreu=hdu_andreu[1].data['DA']\n",
    "xi_publish=hdu_publish[1].data['DA']\n",
    "exi_dr16=np.sqrt(np.diag(hdu_dr16[1].data['CO']))\n",
    "exi_master=np.sqrt(np.diag(hdu_master[1].data['CO']))\n",
    "exi_andreu=np.sqrt(np.diag(hdu_andreu[1].data['CO']))\n",
    "exi_publish=np.sqrt(np.diag(hdu_publish[1].data['CO']))\n",
    "plt.title(r'$(\\xi^*-\\xi_{dr16})/\\sigma_{dr16}$',fontsize = 20)\n",
    "histo((xi_andreu-xi_dr16)/exi_dr16,color='black',text = 'picca andreu')\n",
    "histo((xi_master-xi_dr16)/exi_dr16,color='blue',text = 'picca master',alpha = 0.5,clear = False)\n",
    "histo((xi_publish-xi_dr16)/exi_dr16,color='red',text = 'picca publish',alpha = 0.5,clear = False)"
   ]
  },
  {
   "cell_type": "code",
   "execution_count": null,
   "id": "83e4e5e9-a681-4d51-8dcf-4cd5fe4cab6b",
   "metadata": {},
   "outputs": [],
   "source": []
  },
  {
   "cell_type": "code",
   "execution_count": null,
   "id": "d95607ff-fa74-4364-b563-b6c3cb5dc62a",
   "metadata": {},
   "outputs": [],
   "source": []
  }
 ],
 "metadata": {
  "kernelspec": {
   "display_name": "picca_plots",
   "language": "python",
   "name": "picca_plots"
  },
  "language_info": {
   "codemirror_mode": {
    "name": "ipython",
    "version": 3
   },
   "file_extension": ".py",
   "mimetype": "text/x-python",
   "name": "python",
   "nbconvert_exporter": "python",
   "pygments_lexer": "ipython3",
   "version": "3.6.12"
  }
 },
 "nbformat": 4,
 "nbformat_minor": 5
}
