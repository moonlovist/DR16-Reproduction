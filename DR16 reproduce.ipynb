{
 "cells": [
  {
   "cell_type": "markdown",
   "id": "5263f553-3677-41bb-83d3-ef189fb42857",
   "metadata": {},
   "source": [
    "# Reproduce The DR16 paper result"
   ]
  },
  {
   "cell_type": "markdown",
   "id": "43b3009c-8993-4afb-a9bc-cee2969d71d3",
   "metadata": {},
   "source": [
    "Get Picca with different versions:\n",
    "master: \n",
    "git clone https://github.com/igmhub/picca.git\n",
    "export PICCA_BASE=<path to your picca>\n",
    "pip install -r requirements.txt --user\n",
    "python setup.py install --user\n",
    "\n",
    "DR16 paper version:\n",
    "git checkout tags/v4 -b publish\n",
    "\n"
   ]
  },
  {
   "cell_type": "code",
   "execution_count": null,
   "id": "0a1a2927-8c22-4cc1-a51e-cd157f1164dd",
   "metadata": {},
   "outputs": [],
   "source": []
  },
  {
   "cell_type": "code",
   "execution_count": null,
   "id": "e237a3e2-aeb2-4dea-9bff-3a6b80afec7f",
   "metadata": {
    "tags": []
   },
   "outputs": [],
   "source": [
    "Setup variable pointing to the DR16 spectra catalog:\n",
    "export EBOSS_v5_13_0='/global/cfs/cdirs/cosmo/data/sdss/dr16/eboss/spectro/redux/v5_13_0/'\n",
    "\n",
    "Setup another variable pointing to the DR16 quasar catalog:\n",
    "export DR16='/global/cfs/cdirs/desi/science/lya/eboss_dr16/ting_reproduce_dr16'\n",
    "\n",
    "export Reproduce_dr16=<path to your reproduction dr16>"
   ]
  },
  {
   "cell_type": "code",
   "execution_count": null,
   "id": "8d657a8a-474d-4706-9bf6-49c546f0e02f",
   "metadata": {},
   "outputs": [],
   "source": [
    "cp -r $DR16/Catalogs $Reproduce_dr16/Catalogs\n",
    "cp -r $DR16/Scripts $Reproduce_dr16/Scripts\n",
    "cd $Reproduce_dr16\n",
    "mkdir Delta_calibration Delta_calibration/Delta Delta_calibration/Log/\n",
    "mkdir Delta_calibration2 Delta_calibration2/Delta Delta_calibration2/Log/\n",
    "mkdir Delta_LYA Delta_LYA/Delta Delta_LYA/Log/\n",
    "mkdir Delta_LYB Delta_LYB/Delta Delta_LYB/Log/\n",
    "mkdir Fits Correlations"
   ]
  },
  {
   "cell_type": "code",
   "execution_count": null,
   "id": "cf5f7084-8efb-4339-ae90-1a503db18cd9",
   "metadata": {},
   "outputs": [],
   "source": [
    "$PICCA_BASE/bin/picca_deltas.py --in-dir $EBOSS_v5_13_0/ --drq $Reproduce_dr16/Catalogs/cat_for_clustering.fits.gz --out-dir $Reproduce_dr16/Delta/Delta_calibration/Delta/ --iter-out-prefix $Reproduce_dr16/Delta/Delta_calibration/Log/delta_attributes --log $Reproduce_dr16/Delta/Delta_calibration/Log/input.log --dust-map $Reproduce_dr16/Catalogs/cat_for_clustering.fits.gz --rebin 3 --mode spplate --lambda-min 3600.0 --lambda-max 7235.0 --lambda-rest-min 2900.0 --lambda-rest-max 3120.0 --nit 20 --bi-max 0. --npix-min 50"
   ]
  },
  {
   "cell_type": "code",
   "execution_count": null,
   "id": "36f97c54-a7f9-4742-b538-e5e64d009dd0",
   "metadata": {},
   "outputs": [],
   "source": [
    "$PICCA_BASE/bin/picca_deltas.py --in-dir $EBOSS_v5_13_0/ --drq $Reproduce_dr16/Catalogs/cat_for_clustering.fits.gz --out-dir $Reproduce_dr16/Delta/Delta_calibration2/Delta/ --iter-out-prefix $Reproduce_dr16/Delta/Delta_calibration2/Log/delta_attributes --log $Reproduce_dr16/Delta/Delta_calibration2/Log/input.log --dust-map $Reproduce_dr16/Catalogs/cat_for_clustering.fits.gz --flux-calib $Reproduce_dr16/Delta/Delta_calibration/Log/delta_attributes.fits.gz --mask-file $Reproduce_dr16/Catalogs/dr16-line-sky-mask.txt --rebin 3 --mode spplate --lambda-min 3600.0 --lambda-max 7235.0 --lambda-rest-min 2900.0 --lambda-rest-max 3120.0 --nit 20 --bi-max 0. --npix-min 50"
   ]
  },
  {
   "cell_type": "code",
   "execution_count": null,
   "id": "f248bd9e-4d65-4e1e-8df3-2fd97ca240af",
   "metadata": {},
   "outputs": [],
   "source": [
    "$PICCA_BASE/bin/picca_deltas.py --in-dir $EBOSS_v5_13_0/ --drq $Reproduce_dr16/Catalogs/cat_for_clustering.fits.gz --out-dir $Reproduce_dr16/Delta/Delta_LYA/Delta/ --iter-out-prefix $Reproduce_dr16/Delta/Delta_LYA/Log/delta_attributes --log $Reproduce_dr16/Delta/Delta_LYA/Log/input.log --dust-map $Reproduce_dr16/Catalogs/cat_for_clustering.fits.gz --flux-calib $Reproduce_dr16/Delta/Delta_LYA/Log/delta_attributes.fits.gz --ivar-calib $Reproduce_dr16/Delta/Delta_LYA/Log/delta_attributes.fits.gz --mask-file $Reproduce_dr16/Catalogs/dr16-line-sky-mask.txt --dla-vac $Reproduce_dr16/Catalogs/cat_for_DLA.fits --rebin 3 --mode spplate --lambda-min 3600.0 --lambda-max 7235.0 --lambda-rest-min 1040.0 --lambda-rest-max 1200.0 --nit 20 --bi-max 0. --vlss-max 1.0 --optical-depth 0.0023 3.64 LYA --npix-min 50"
   ]
  },
  {
   "cell_type": "code",
   "execution_count": null,
   "id": "c23c4f40-b4ab-4873-924d-23b8dce73bc2",
   "metadata": {},
   "outputs": [],
   "source": []
  },
  {
   "cell_type": "code",
   "execution_count": null,
   "id": "abbcac25-9c74-4288-aaa8-2921bf9841ce",
   "metadata": {},
   "outputs": [],
   "source": [
    "$PICCA_BASE/bin/picca_cf.py --in-dir $Reproduce_dr16/Delta/Delta_LYA/Delta/ --out $Reproduce_dr16/Correlations/cf_z_all_data.fits --nproc 32 --fid-Om 0.3147 --fid-Or 0.0"
   ]
  },
  {
   "cell_type": "code",
   "execution_count": null,
   "id": "92391d54-db82-4996-94a9-fde63529cfed",
   "metadata": {},
   "outputs": [],
   "source": [
    "$PICCA_BASE/bin/picca_dmat.py --in-dir $Reproduce_dr16/Delta/Delta_LYA/Delta/ --out $Reproduce_dr16/Correlations/dmat_z_all_data.fits --rej 0.99 --nproc 32 --fid-Om 0.3147 --fid-Or 0.0"
   ]
  },
  {
   "cell_type": "code",
   "execution_count": null,
   "id": "573c6822-5b08-412a-ab68-84aef403dcfb",
   "metadata": {},
   "outputs": [],
   "source": [
    "$PICCA_BASE/bin/picca_metal_dmat.py --in-dir $Reproduce_dr16/Delta/Delta_LYA/Delta/ --out $Reproduce_dr16/Correlations/metal_dmat_z_all_data.fits --nproc 32 --fid-Om 0.314569514863487 --fid-Or 7.97505418919554e-5 --rej 0.999 --abs-igm 'CIV(eff)' 'SiII(1260)' 'SiIII(1207)' 'SiII(1193)' 'SiII(1190)'"
   ]
  },
  {
   "cell_type": "code",
   "execution_count": null,
   "id": "df8ac622-487d-42df-ac06-19995b10eec5",
   "metadata": {},
   "outputs": [],
   "source": [
    "$PICCA_BASE/bin/picca_export.py --data $Reproduce_dr16/Correlations/cf_z_all_data.fits --dmat $Reproduce_dr16/Correlations/dmat_z_all_data.fits --out $Reproduce_dr16/Correlations/cf_z_all_data-exp.fits.gz"
   ]
  },
  {
   "cell_type": "code",
   "execution_count": null,
   "id": "23d1b399-7c46-4604-8b00-d95bbb763f82",
   "metadata": {},
   "outputs": [],
   "source": [
    "$PICCA_BASE/bin/picca_fitter2.py $Reproduce_dr16/Scripts/chi2_L0_10.ini"
   ]
  },
  {
   "cell_type": "markdown",
   "id": "69f9ef92-979e-4fda-9b03-465a82d3eed1",
   "metadata": {},
   "source": [
    "# People can also submit jobs using the scripts"
   ]
  },
  {
   "cell_type": "code",
   "execution_count": null,
   "id": "ffea8ea1-30b9-4301-9d72-6fc13d281479",
   "metadata": {},
   "outputs": [],
   "source": [
    "sbatch $Reproduce_dr16/Scripts/picca_deltas_calibration.batch\n",
    "sbatch $Reproduce_dr16/Scripts/picca_deltas_calibration2.batch\n",
    "sbatch $Reproduce_dr16/Scripts/picca_deltas_LYA.batch\n",
    "sbatch $Reproduce_dr16/Scripts/cf_z.batch\n",
    "sbatch $Reproduce_dr16/Scripts/dmat_z.batch\n",
    "sbatch $Reproduce_dr16/Scripts/metal_dmat.batch\n",
    "sbatch $Reproduce_dr16/Scripts/export.batch"
   ]
  },
  {
   "cell_type": "code",
   "execution_count": null,
   "id": "a6df5de8-f376-4616-89fb-533f461316e8",
   "metadata": {},
   "outputs": [],
   "source": []
  },
  {
   "cell_type": "code",
   "execution_count": null,
   "id": "5fa47282-139c-47d3-8158-11d41125936c",
   "metadata": {},
   "outputs": [],
   "source": []
  }
 ],
 "metadata": {
  "kernelspec": {
   "display_name": "picca_plots",
   "language": "python",
   "name": "picca_plots"
  },
  "language_info": {
   "codemirror_mode": {
    "name": "ipython",
    "version": 3
   },
   "file_extension": ".py",
   "mimetype": "text/x-python",
   "name": "python",
   "nbconvert_exporter": "python",
   "pygments_lexer": "ipython3",
   "version": "3.6.12"
  }
 },
 "nbformat": 4,
 "nbformat_minor": 5
}
